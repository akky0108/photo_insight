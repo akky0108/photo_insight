{
 "cells": [
  {
   "cell_type": "markdown",
   "id": "1753dada",
   "metadata": {},
   "source": [
    "# AppLogger 利用例\n",
    "\n",
    "このノートブックでは、`utils.app_logger.AppLogger` の使い方を紹介します。"
   ]
  },
  {
   "cell_type": "code",
   "execution_count": null,
   "id": "2d2fcffb",
   "metadata": {},
   "outputs": [],
   "source": [
    "# 事前準備: インポートとロガーの初期化\n",
    "from utils.app_logger import AppLogger\n",
    "\n",
    "# プロジェクトルートを仮に . とする（必要に応じてパス修正）\n",
    "logger = AppLogger(project_root=\".\", logger_name=\"NotebookLogger\").get_logger()"
   ]
  },
  {
   "cell_type": "code",
   "execution_count": null,
   "id": "28533510",
   "metadata": {},
   "outputs": [],
   "source": [
    "# ログ出力テスト\n",
    "logger.debug(\"これは DEBUG レベルのログです。\")\n",
    "logger.info(\"これは INFO レベルのログです。\")\n",
    "logger.warning(\"これは WARNING レベルのログです。\")\n",
    "logger.error(\"これは ERROR レベルのログです。\")\n",
    "logger.critical(\"これは CRITICAL レベルのログです。\")\n"
   ]
  },
  {
   "cell_type": "markdown",
   "id": "50f38001",
   "metadata": {},
   "source": [
    "## ログ出力先\n",
    "\n",
    "出力されたログファイルは以下のパスに保存されます：\n",
    "\n",
    "./logs/app.log\n",
    "\n",
    "ログファイルを直接開いて、内容を確認してみてください。\n"
   ]
  }
 ],
 "metadata": {
  "language_info": {
   "name": "python"
  }
 },
 "nbformat": 4,
 "nbformat_minor": 5
}
